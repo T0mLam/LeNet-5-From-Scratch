{
 "cells": [
  {
   "cell_type": "markdown",
   "metadata": {},
   "source": [
    "# LeNet-5 from scratch"
   ]
  },
  {
   "cell_type": "code",
   "execution_count": 21,
   "metadata": {},
   "outputs": [],
   "source": [
    "import matplotlib.pyplot as plt\n",
    "import numpy as np\n",
    "from tqdm import tqdm\n",
    "from torchvision import datasets, transforms \n",
    "\n",
    "from modules.activation import SquashedTanh\n",
    "from modules.criterion import MSE\n",
    "from modules.init import LeCun\n",
    "from modules.layer import Linear, Conv, Flatten, RBF\n",
    "from modules.loader import DatasetLoader\n",
    "from modules.model import RBF_Sequential\n",
    "from modules.optimizer import Adam\n",
    "from modules.pooling import AvgPool\n",
    "from modules.constant import ASCII_BITMAP, C3_MAPPING\n",
    "from modules.utils import save_model"
   ]
  },
  {
   "cell_type": "markdown",
   "metadata": {},
   "source": [
    "Create a composed transform to transform the data into images in the dimension of (32, 32) and normalized the pixel values to accelerate learning "
   ]
  },
  {
   "cell_type": "code",
   "execution_count": 2,
   "metadata": {},
   "outputs": [],
   "source": [
    "composed_transform = transforms.Compose([\n",
    "    transforms.Resize((32, 32)),\n",
    "    transforms.ToTensor(),\n",
    "    transforms.Normalize(0, 1)\n",
    "])"
   ]
  },
  {
   "cell_type": "markdown",
   "metadata": {},
   "source": [
    "Split the dataset into training and testing data and labels"
   ]
  },
  {
   "cell_type": "code",
   "execution_count": 17,
   "metadata": {},
   "outputs": [],
   "source": [
    "train_dataset = datasets.MNIST(root='./data', train=True, download=True, transform=composed_transform)\n",
    "test_dataset = datasets.MNIST(root='./data', train=False, download=True, transform=composed_transform)\n",
    "\n",
    "X_train = np.array([data[0].numpy() for data in train_dataset])\n",
    "y_train = np.array([data[1] for data in train_dataset])\n",
    "X_test = np.array([data[0].numpy() for data in test_dataset])\n",
    "y_test = np.array([data[1] for data in test_dataset])"
   ]
  },
  {
   "cell_type": "markdown",
   "metadata": {},
   "source": [
    "LeNet-5 Architecture"
   ]
  },
  {
   "cell_type": "markdown",
   "metadata": {},
   "source": [
    "<img src='./img/architecture.png' width=100%>"
   ]
  },
  {
   "cell_type": "markdown",
   "metadata": {},
   "source": [
    "The activation function of the LeNet model <code>SquashedTanh</code> is a modification of the Tanh function with $S=\\frac{2}{3}$ and $A=1.7159$"
   ]
  },
  {
   "cell_type": "markdown",
   "metadata": {},
   "source": [
    "<img src='img/activation.png' width=50%>"
   ]
  },
  {
   "cell_type": "markdown",
   "metadata": {},
   "source": [
    "The feature maps in layer C3 (<code>C3_MAPPING</code>) takes specific output channels from S2 according to the following table"
   ]
  },
  {
   "cell_type": "markdown",
   "metadata": {},
   "source": [
    "<img src='img/mappings.png' width=50%>"
   ]
  },
  {
   "cell_type": "markdown",
   "metadata": {},
   "source": [
    "The final RBF output layer which takes in <code>ASCII_BITMAP</code> as parameter is composed of feature maps of digit 0-9. "
   ]
  },
  {
   "cell_type": "markdown",
   "metadata": {},
   "source": [
    "<img src='img/ascii_mapping.png' width=50%>"
   ]
  },
  {
   "cell_type": "markdown",
   "metadata": {},
   "source": [
    "During training phrase, the output of the model will be compared against the feature map of the ground truth and evaluate the loss for the sample using the <code>MSE</code> loss function, then the model parameters will be updated in backpropagation."
   ]
  },
  {
   "cell_type": "markdown",
   "metadata": {},
   "source": [
    "<img src='img/rbf_desc.png' width=50%>"
   ]
  },
  {
   "cell_type": "code",
   "execution_count": 8,
   "metadata": {},
   "outputs": [],
   "source": [
    "init_method = LeCun()\n",
    "\n",
    "model = RBF_Sequential([\n",
    "    # Conv Layers\n",
    "    Conv((32, 32), 128, 1, 6, 5), #c1\n",
    "    AvgPool(2), #s2\n",
    "    SquashedTanh(),\n",
    "    Conv((14, 14), 128, 6, 16, 5, mapping=C3_MAPPING), #c3\n",
    "    AvgPool(2), #s4\n",
    "    SquashedTanh(), \n",
    "    Conv((5, 5), 128, 16, 120, 5), #c5\n",
    "    SquashedTanh(),\n",
    "    \n",
    "    # FC Layers\n",
    "    Flatten(),\n",
    "    Linear(120, 84, init_method), #f6\n",
    "    SquashedTanh(),\n",
    "    RBF(ASCII_BITMAP) #output\n",
    "])"
   ]
  },
  {
   "cell_type": "markdown",
   "metadata": {},
   "source": [
    "The loss function used in this model is the simplest <code>MSE</code> proposed in the paper (without MAP)"
   ]
  },
  {
   "cell_type": "markdown",
   "metadata": {},
   "source": [
    "<img src='img/loss_func.png' width=50%>"
   ]
  },
  {
   "cell_type": "markdown",
   "metadata": {},
   "source": [
    "The <code>Adam</code> optimizer is used instead of the Stochastic Diagonal Levenberg Marquardt method proposed in the original paper"
   ]
  },
  {
   "cell_type": "code",
   "execution_count": 9,
   "metadata": {},
   "outputs": [],
   "source": [
    "criterion = MSE()\n",
    "optimizer = Adam(model, lr=0.001)"
   ]
  },
  {
   "cell_type": "markdown",
   "metadata": {},
   "source": [
    "Train the model with hyperparameters <code>epochs</code>=10 and <code>batch_size</code>=128"
   ]
  },
  {
   "cell_type": "code",
   "execution_count": 10,
   "metadata": {},
   "outputs": [],
   "source": [
    "batch_size = 128\n",
    "epochs = 10"
   ]
  },
  {
   "cell_type": "code",
   "execution_count": 11,
   "metadata": {},
   "outputs": [
    {
     "name": "stdout",
     "output_type": "stream",
     "text": [
      "\n",
      "Epoch 1\n"
     ]
    },
    {
     "name": "stderr",
     "output_type": "stream",
     "text": [
      "Training: 100%|██████████| 468/468 [29:53<00:00,  3.83s/it]\n",
      "Testing: 100%|██████████| 78/78 [02:13<00:00,  1.71s/it]\n"
     ]
    },
    {
     "name": "stdout",
     "output_type": "stream",
     "text": [
      "Accuracy: 0.797 | Loss: 654011.4477867667\n",
      "\n",
      "Epoch 2\n"
     ]
    },
    {
     "name": "stderr",
     "output_type": "stream",
     "text": [
      "Training: 100%|██████████| 468/468 [30:25<00:00,  3.90s/it]\n",
      "Testing: 100%|██████████| 78/78 [02:16<00:00,  1.75s/it]\n"
     ]
    },
    {
     "name": "stdout",
     "output_type": "stream",
     "text": [
      "Accuracy: 0.8192 | Loss: 361535.3185029427\n",
      "\n",
      "Epoch 3\n"
     ]
    },
    {
     "name": "stderr",
     "output_type": "stream",
     "text": [
      "Training: 100%|██████████| 468/468 [30:25<00:00,  3.90s/it]\n",
      "Testing: 100%|██████████| 78/78 [02:15<00:00,  1.74s/it]\n"
     ]
    },
    {
     "name": "stdout",
     "output_type": "stream",
     "text": [
      "Accuracy: 0.8273 | Loss: 334936.6556871049\n",
      "\n",
      "Epoch 4\n"
     ]
    },
    {
     "name": "stderr",
     "output_type": "stream",
     "text": [
      "Training: 100%|██████████| 468/468 [30:36<00:00,  3.92s/it]\n",
      "Testing: 100%|██████████| 78/78 [02:15<00:00,  1.74s/it]\n"
     ]
    },
    {
     "name": "stdout",
     "output_type": "stream",
     "text": [
      "Accuracy: 0.8322 | Loss: 321121.8501079016\n",
      "\n",
      "Epoch 5\n"
     ]
    },
    {
     "name": "stderr",
     "output_type": "stream",
     "text": [
      "Training: 100%|██████████| 468/468 [30:41<00:00,  3.94s/it]\n",
      "Testing: 100%|██████████| 78/78 [02:15<00:00,  1.74s/it]\n"
     ]
    },
    {
     "name": "stdout",
     "output_type": "stream",
     "text": [
      "Accuracy: 0.8334 | Loss: 311705.08384496334\n",
      "\n",
      "Epoch 6\n"
     ]
    },
    {
     "name": "stderr",
     "output_type": "stream",
     "text": [
      "Training: 100%|██████████| 468/468 [31:01<00:00,  3.98s/it]\n",
      "Testing: 100%|██████████| 78/78 [02:19<00:00,  1.79s/it]\n"
     ]
    },
    {
     "name": "stdout",
     "output_type": "stream",
     "text": [
      "Accuracy: 0.8359 | Loss: 305471.16934913147\n",
      "\n",
      "Epoch 7\n"
     ]
    },
    {
     "name": "stderr",
     "output_type": "stream",
     "text": [
      "Training: 100%|██████████| 468/468 [31:03<00:00,  3.98s/it]\n",
      "Testing: 100%|██████████| 78/78 [02:18<00:00,  1.77s/it]\n"
     ]
    },
    {
     "name": "stdout",
     "output_type": "stream",
     "text": [
      "Accuracy: 0.8383 | Loss: 298263.94807106943\n",
      "\n",
      "Epoch 8\n"
     ]
    },
    {
     "name": "stderr",
     "output_type": "stream",
     "text": [
      "Training: 100%|██████████| 468/468 [31:18<00:00,  4.01s/it]\n",
      "Testing: 100%|██████████| 78/78 [02:17<00:00,  1.77s/it]\n"
     ]
    },
    {
     "name": "stdout",
     "output_type": "stream",
     "text": [
      "Accuracy: 0.8419 | Loss: 288806.83596206765\n",
      "\n",
      "Epoch 9\n"
     ]
    },
    {
     "name": "stderr",
     "output_type": "stream",
     "text": [
      "Training: 100%|██████████| 468/468 [31:28<00:00,  4.04s/it]\n",
      "Testing: 100%|██████████| 78/78 [02:17<00:00,  1.76s/it]\n"
     ]
    },
    {
     "name": "stdout",
     "output_type": "stream",
     "text": [
      "Accuracy: 0.8417 | Loss: 283739.2918727931\n",
      "\n",
      "Epoch 10\n"
     ]
    },
    {
     "name": "stderr",
     "output_type": "stream",
     "text": [
      "Training: 100%|██████████| 468/468 [31:05<00:00,  3.99s/it]  \n",
      "Testing: 100%|██████████| 78/78 [01:56<00:00,  1.50s/it]\n"
     ]
    },
    {
     "name": "stdout",
     "output_type": "stream",
     "text": [
      "Accuracy: 0.8435 | Loss: 280569.7738732661\n"
     ]
    },
    {
     "data": {
      "image/png": "[encoded data removed]",
      "text/plain": [
       "<Figure size 640x480 with 1 Axes>"
      ]
     },
     "metadata": {},
     "output_type": "display_data"
    }
   ],
   "source": [
    "loss_list = []\n",
    "acc_list = []\n",
    "train_loader = DatasetLoader(X_train, y_train, batch_size=batch_size)\n",
    "test_loader = DatasetLoader(X_test, y_test, batch_size=batch_size)\n",
    "\n",
    "for epoch in range(epochs):\n",
    "    print(f'\\nEpoch {epoch + 1}')\n",
    "    loss = 0\n",
    "    model.train()\n",
    "\n",
    "    for X, y in tqdm(train_loader, desc='Training'):\n",
    "        y_pred = model(X, y=y)\n",
    "        loss += criterion(y, y_pred)\n",
    "        grad = criterion.backward()\n",
    "        model.backward(grad)\n",
    "        optimizer.step()\n",
    "\n",
    "    correct = 0\n",
    "    model.eval()\n",
    "\n",
    "    for X, y in tqdm(test_loader, desc='Testing'):\n",
    "        y_pred = model(X)\n",
    "        correct += np.sum(y_pred == y)\n",
    "\n",
    "    acc = correct / len(y_test)\n",
    "    acc_list.append(acc)\n",
    "    loss_list.append(loss)\n",
    "    print(f'Accuracy: {acc} | Loss: {loss}')\n",
    "\n",
    "plt.plot(loss_list)\n",
    "plt.show()"
   ]
  },
  {
   "cell_type": "markdown",
   "metadata": {},
   "source": [
    "Visualize the model accuracy and loss"
   ]
  },
  {
   "cell_type": "code",
   "execution_count": 28,
   "metadata": {},
   "outputs": [
    {
     "data": {
      "image/png": "[encoded data removed]",
      "text/plain": [
       "<Figure size 640x480 with 2 Axes>"
      ]
     },
     "metadata": {},
     "output_type": "display_data"
    }
   ],
   "source": [
    "fig, ax1 = plt.subplots()\n",
    "\n",
    "color = 'tab:red'\n",
    "ax1.set_xlabel('Epoch')\n",
    "ax1.set_ylabel('Loss', color=color)\n",
    "ax1.plot(loss_list, color=color)\n",
    "ax1.tick_params(axis='y', labelcolor=color)\n",
    "\n",
    "ax2 = ax1.twinx()\n",
    "color = 'tab:blue'\n",
    "ax2.set_ylabel('Accuracy', color=color)  # we already handled the x-label with ax1\n",
    "ax2.plot(acc_list, color=color)\n",
    "ax2.tick_params(axis='y', labelcolor=color)\n",
    "\n",
    "plt.title('Model Accuracy & Loss')\n",
    "fig.tight_layout()  \n",
    "plt.show()"
   ]
  },
  {
   "cell_type": "markdown",
   "metadata": {},
   "source": [
    "Save the model using Pickle for future inference"
   ]
  },
  {
   "cell_type": "code",
   "execution_count": 16,
   "metadata": {},
   "outputs": [
    {
     "data": {
      "text/plain": [
       "True"
      ]
     },
     "execution_count": 16,
     "metadata": {},
     "output_type": "execute_result"
    }
   ],
   "source": [
    "save_model(model, 'models/rbf_model_10ep.pkl')"
   ]
  }
 ],
 "metadata": {
  "kernelspec": {
   "display_name": "Python 3",
   "language": "python",
   "name": "python3"
  },
  "language_info": {
   "codemirror_mode": {
    "name": "ipython",
    "version": 3
   },
   "file_extension": ".py",
   "mimetype": "text/x-python",
   "name": "python",
   "nbconvert_exporter": "python",
   "pygments_lexer": "ipython3",
   "version": "3.12.2"
  }
 },
 "nbformat": 4,
 "nbformat_minor": 2
}
